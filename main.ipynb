{
 "cells": [
  {
   "cell_type": "markdown",
   "metadata": {},
   "source": [
    "### Installs and Imports"
   ]
  },
  {
   "cell_type": "code",
   "execution_count": 2,
   "metadata": {},
   "outputs": [
    {
     "name": "stdout",
     "output_type": "stream",
     "text": [
      "Requirement already satisfied: kagglehub in c:\\python311\\lib\\site-packages (0.3.9)\n",
      "Requirement already satisfied: pandas in c:\\python311\\lib\\site-packages (2.2.3)\n",
      "Requirement already satisfied: numpy in c:\\users\\masha\\appdata\\roaming\\python\\python311\\site-packages (1.26.4)\n",
      "Requirement already satisfied: matplotlib in c:\\python311\\lib\\site-packages (3.9.1)\n",
      "Requirement already satisfied: seaborn in c:\\python311\\lib\\site-packages (0.13.2)\n",
      "Requirement already satisfied: scikit-learn in c:\\python311\\lib\\site-packages (1.6.1)\n",
      "Requirement already satisfied: packaging in c:\\python311\\lib\\site-packages (from kagglehub) (24.1)\n",
      "Requirement already satisfied: pyyaml in c:\\python311\\lib\\site-packages (from kagglehub) (6.0.2)\n",
      "Requirement already satisfied: requests in c:\\python311\\lib\\site-packages (from kagglehub) (2.32.3)\n",
      "Requirement already satisfied: tqdm in c:\\python311\\lib\\site-packages (from kagglehub) (4.66.4)\n",
      "Requirement already satisfied: python-dateutil>=2.8.2 in c:\\python311\\lib\\site-packages (from pandas) (2.9.0.post0)\n",
      "Requirement already satisfied: pytz>=2020.1 in c:\\python311\\lib\\site-packages (from pandas) (2025.1)\n",
      "Requirement already satisfied: tzdata>=2022.7 in c:\\python311\\lib\\site-packages (from pandas) (2025.1)\n",
      "Requirement already satisfied: contourpy>=1.0.1 in c:\\python311\\lib\\site-packages (from matplotlib) (1.2.1)\n",
      "Requirement already satisfied: cycler>=0.10 in c:\\python311\\lib\\site-packages (from matplotlib) (0.12.1)\n",
      "Requirement already satisfied: fonttools>=4.22.0 in c:\\python311\\lib\\site-packages (from matplotlib) (4.53.1)\n",
      "Requirement already satisfied: kiwisolver>=1.3.1 in c:\\python311\\lib\\site-packages (from matplotlib) (1.4.5)\n",
      "Requirement already satisfied: pillow>=8 in c:\\python311\\lib\\site-packages (from matplotlib) (10.4.0)\n",
      "Requirement already satisfied: pyparsing>=2.3.1 in c:\\python311\\lib\\site-packages (from matplotlib) (3.1.2)\n",
      "Requirement already satisfied: scipy>=1.6.0 in c:\\python311\\lib\\site-packages (from scikit-learn) (1.14.0)\n",
      "Requirement already satisfied: joblib>=1.2.0 in c:\\python311\\lib\\site-packages (from scikit-learn) (1.4.2)\n",
      "Requirement already satisfied: threadpoolctl>=3.1.0 in c:\\python311\\lib\\site-packages (from scikit-learn) (3.5.0)\n",
      "Requirement already satisfied: six>=1.5 in c:\\python311\\lib\\site-packages (from python-dateutil>=2.8.2->pandas) (1.16.0)\n",
      "Requirement already satisfied: charset-normalizer<4,>=2 in c:\\python311\\lib\\site-packages (from requests->kagglehub) (3.3.2)\n",
      "Requirement already satisfied: idna<4,>=2.5 in c:\\python311\\lib\\site-packages (from requests->kagglehub) (3.7)\n",
      "Requirement already satisfied: urllib3<3,>=1.21.1 in c:\\python311\\lib\\site-packages (from requests->kagglehub) (2.2.1)\n",
      "Requirement already satisfied: certifi>=2017.4.17 in c:\\python311\\lib\\site-packages (from requests->kagglehub) (2024.6.2)\n",
      "Requirement already satisfied: colorama in c:\\python311\\lib\\site-packages (from tqdm->kagglehub) (0.4.6)\n"
     ]
    },
    {
     "name": "stderr",
     "output_type": "stream",
     "text": [
      "\n",
      "[notice] A new release of pip is available: 24.1.2 -> 25.0.1\n",
      "[notice] To update, run: python.exe -m pip install --upgrade pip\n"
     ]
    }
   ],
   "source": [
    "!pip install kagglehub pandas numpy matplotlib seaborn scikit-learn"
   ]
  },
  {
   "cell_type": "code",
   "execution_count": 3,
   "metadata": {},
   "outputs": [
    {
     "name": "stderr",
     "output_type": "stream",
     "text": [
      "c:\\Python311\\Lib\\site-packages\\tqdm\\auto.py:21: TqdmWarning: IProgress not found. Please update jupyter and ipywidgets. See https://ipywidgets.readthedocs.io/en/stable/user_install.html\n",
      "  from .autonotebook import tqdm as notebook_tqdm\n"
     ]
    },
    {
     "name": "stdout",
     "output_type": "stream",
     "text": [
      "Downloading from https://www.kaggle.com/api/v1/datasets/download/benroshan/factors-affecting-campus-placement?dataset_version_number=1...\n"
     ]
    },
    {
     "name": "stderr",
     "output_type": "stream",
     "text": [
      "100%|██████████| 4.51k/4.51k [00:00<00:00, 1.58MB/s]"
     ]
    },
    {
     "name": "stdout",
     "output_type": "stream",
     "text": [
      "Extracting files...\n",
      "Path to dataset files: C:\\Users\\masha\\.cache\\kagglehub\\datasets\\benroshan\\factors-affecting-campus-placement\\versions\\1\n"
     ]
    },
    {
     "name": "stderr",
     "output_type": "stream",
     "text": [
      "\n"
     ]
    }
   ],
   "source": [
    "import kagglehub\n",
    "import os\n",
    "import pandas as pd\n",
    "import numpy as np\n",
    "import matplotlib.pyplot as plt\n",
    "import seaborn as sns\n",
    "from sklearn.model_selection import train_test_split\n",
    "from sklearn.linear_model import LogisticRegression, LinearRegression\n",
    "from sklearn.metrics import accuracy_score, mean_squared_error, r2_score\n",
    "from sklearn.preprocessing import LabelEncoder\n",
    "# Download latest version\n",
    "path = kagglehub.dataset_download(\"benroshan/factors-affecting-campus-placement\")\n",
    "\n",
    "print(\"Path to dataset files:\", path)"
   ]
  },
  {
   "cell_type": "code",
   "execution_count": 4,
   "metadata": {},
   "outputs": [
    {
     "name": "stdout",
     "output_type": "stream",
     "text": [
      "Dataset Loaded!\n",
      "<class 'pandas.core.frame.DataFrame'>\n",
      "RangeIndex: 215 entries, 0 to 214\n",
      "Data columns (total 15 columns):\n",
      " #   Column          Non-Null Count  Dtype  \n",
      "---  ------          --------------  -----  \n",
      " 0   sl_no           215 non-null    int64  \n",
      " 1   gender          215 non-null    object \n",
      " 2   ssc_p           215 non-null    float64\n",
      " 3   ssc_b           215 non-null    object \n",
      " 4   hsc_p           215 non-null    float64\n",
      " 5   hsc_b           215 non-null    object \n",
      " 6   hsc_s           215 non-null    object \n",
      " 7   degree_p        215 non-null    float64\n",
      " 8   degree_t        215 non-null    object \n",
      " 9   workex          215 non-null    object \n",
      " 10  etest_p         215 non-null    float64\n",
      " 11  specialisation  215 non-null    object \n",
      " 12  mba_p           215 non-null    float64\n",
      " 13  status          215 non-null    object \n",
      " 14  salary          148 non-null    float64\n",
      "dtypes: float64(6), int64(1), object(8)\n",
      "memory usage: 25.3+ KB\n",
      "None\n",
      "   sl_no gender  ssc_p    ssc_b  hsc_p    hsc_b     hsc_s  degree_p  \\\n",
      "0      1      M  67.00   Others  91.00   Others  Commerce     58.00   \n",
      "1      2      M  79.33  Central  78.33   Others   Science     77.48   \n",
      "2      3      M  65.00  Central  68.00  Central      Arts     64.00   \n",
      "3      4      M  56.00  Central  52.00  Central   Science     52.00   \n",
      "4      5      M  85.80  Central  73.60  Central  Commerce     73.30   \n",
      "\n",
      "    degree_t workex  etest_p specialisation  mba_p      status    salary  \n",
      "0   Sci&Tech     No     55.0         Mkt&HR  58.80      Placed  270000.0  \n",
      "1   Sci&Tech    Yes     86.5        Mkt&Fin  66.28      Placed  200000.0  \n",
      "2  Comm&Mgmt     No     75.0        Mkt&Fin  57.80      Placed  250000.0  \n",
      "3   Sci&Tech     No     66.0         Mkt&HR  59.43  Not Placed       NaN  \n",
      "4  Comm&Mgmt     No     96.8        Mkt&Fin  55.50      Placed  425000.0  \n"
     ]
    }
   ],
   "source": [
    "dataset_folder = r\"C:\\Users\\masha\\.cache\\kagglehub\\datasets\\benroshan\\factors-affecting-campus-placement\\versions\\1\"\n",
    "\n",
    "# List all files in the folder\n",
    "csv_files = [f for f in os.listdir(dataset_folder) if f.endswith(\".csv\")]\n",
    "\n",
    "# Ensure there's at least one CSV file\n",
    "if len(csv_files) == 1:\n",
    "    dataset_path = os.path.join(dataset_folder, csv_files[0])  # Select the first CSV file\n",
    "    df = pd.read_csv(dataset_path)\n",
    "    print(\"Dataset Loaded!\")\n",
    "    \n",
    "    # Display dataset info\n",
    "    print(df.info())\n",
    "    print(df.head())  # Show first few rows\n",
    "else:\n",
    "    print(\"No CSV file found\")"
   ]
  },
  {
   "cell_type": "code",
   "execution_count": 5,
   "metadata": {},
   "outputs": [
    {
     "name": "stdout",
     "output_type": "stream",
     "text": [
      "   sl_no gender  ssc_p    ssc_b  hsc_p    hsc_b     hsc_s  degree_p  \\\n",
      "0      1      M  67.00   Others  91.00   Others  Commerce     58.00   \n",
      "1      2      M  79.33  Central  78.33   Others   Science     77.48   \n",
      "2      3      M  65.00  Central  68.00  Central      Arts     64.00   \n",
      "3      4      M  56.00  Central  52.00  Central   Science     52.00   \n",
      "4      5      M  85.80  Central  73.60  Central  Commerce     73.30   \n",
      "\n",
      "    degree_t workex  etest_p specialisation  mba_p      status    salary  \n",
      "0   Sci&Tech     No     55.0         Mkt&HR  58.80      Placed  270000.0  \n",
      "1   Sci&Tech    Yes     86.5        Mkt&Fin  66.28      Placed  200000.0  \n",
      "2  Comm&Mgmt     No     75.0        Mkt&Fin  57.80      Placed  250000.0  \n",
      "3   Sci&Tech     No     66.0         Mkt&HR  59.43  Not Placed       NaN  \n",
      "4  Comm&Mgmt     No     96.8        Mkt&Fin  55.50      Placed  425000.0  \n",
      "sl_no              0\n",
      "gender             0\n",
      "ssc_p              0\n",
      "ssc_b              0\n",
      "hsc_p              0\n",
      "hsc_b              0\n",
      "hsc_s              0\n",
      "degree_p           0\n",
      "degree_t           0\n",
      "workex             0\n",
      "etest_p            0\n",
      "specialisation     0\n",
      "mba_p              0\n",
      "status             0\n",
      "salary            67\n",
      "dtype: int64\n",
      "            sl_no       ssc_p       hsc_p    degree_p     etest_p       mba_p  \\\n",
      "count  215.000000  215.000000  215.000000  215.000000  215.000000  215.000000   \n",
      "mean   108.000000   67.303395   66.333163   66.370186   72.100558   62.278186   \n",
      "std     62.209324   10.827205   10.897509    7.358743   13.275956    5.833385   \n",
      "min      1.000000   40.890000   37.000000   50.000000   50.000000   51.210000   \n",
      "25%     54.500000   60.600000   60.900000   61.000000   60.000000   57.945000   \n",
      "50%    108.000000   67.000000   65.000000   66.000000   71.000000   62.000000   \n",
      "75%    161.500000   75.700000   73.000000   72.000000   83.500000   66.255000   \n",
      "max    215.000000   89.400000   97.700000   91.000000   98.000000   77.890000   \n",
      "\n",
      "              salary  \n",
      "count     148.000000  \n",
      "mean   288655.405405  \n",
      "std     93457.452420  \n",
      "min    200000.000000  \n",
      "25%    240000.000000  \n",
      "50%    265000.000000  \n",
      "75%    300000.000000  \n",
      "max    940000.000000  \n"
     ]
    }
   ],
   "source": [
    "print(df.head())\n",
    "\n",
    "# Check for missing values\n",
    "print(df.isnull().sum())\n",
    "\n",
    "# Summary statistics\n",
    "print(df.describe())"
   ]
  },
  {
   "cell_type": "markdown",
   "metadata": {},
   "source": [
    "### Data Preprocessing"
   ]
  },
  {
   "cell_type": "code",
   "execution_count": null,
   "metadata": {},
   "outputs": [
    {
     "name": "stdout",
     "output_type": "stream",
     "text": [
      "   gender  ssc_p  ssc_b  hsc_p  hsc_b  hsc_s  degree_p  degree_t  workex  \\\n",
      "0       1  67.00      1  91.00      1      1     58.00         2       0   \n",
      "1       1  79.33      0  78.33      1      2     77.48         2       1   \n",
      "2       1  65.00      0  68.00      0      0     64.00         0       0   \n",
      "3       1  56.00      0  52.00      0      2     52.00         2       0   \n",
      "4       1  85.80      0  73.60      0      1     73.30         0       0   \n",
      "\n",
      "   etest_p  specialisation  mba_p  status    salary  \n",
      "0     55.0               1  58.80       1  270000.0  \n",
      "1     86.5               0  66.28       1  200000.0  \n",
      "2     75.0               0  57.80       1  250000.0  \n",
      "3     66.0               1  59.43       0       0.0  \n",
      "4     96.8               0  55.50       1  425000.0  \n"
     ]
    }
   ],
   "source": [
    "# Handle missing values in the 'salary' column (for non-placed students)\n",
    "df.loc[:, 'salary'] = df['salary'].fillna(0)\n",
    "\n",
    "# Encode categorical variables\n",
    "label_encoder = LabelEncoder()\n",
    "categorical_columns = ['gender', 'ssc_b', 'hsc_b', 'hsc_s', 'degree_t', 'workex', 'specialisation', 'status']\n",
    "for col in categorical_columns:\n",
    "    df[col] = label_encoder.fit_transform(df[col])\n",
    "\n",
    "# Drop unnecessary columns\n",
    "# Drop 'sl_no' only if it exists\n",
    "if 'sl_no' in df.columns:\n",
    "    df.drop(['sl_no'], axis=1, inplace=True)\n",
    "\n",
    "# Display the preprocessed dataset\n",
    "print(df.head())"
   ]
  },
  {
   "cell_type": "code",
   "execution_count": 7,
   "metadata": {},
   "outputs": [
    {
     "name": "stdout",
     "output_type": "stream",
     "text": [
      "Placed Students Summary:\n",
      "           gender       ssc_p       ssc_b       hsc_p       hsc_b       hsc_s  \\\n",
      "count  148.000000  148.000000  148.000000  148.000000  148.000000  148.000000   \n",
      "mean     0.675676   71.721486    0.472973   69.926554    0.614865    1.385135   \n",
      "std      0.469711    8.715445    0.500964    9.329268    0.488280    0.565729   \n",
      "min      0.000000   49.000000    0.000000   50.830000    0.000000    0.000000   \n",
      "25%      0.000000   65.000000    0.000000   63.000000    0.000000    1.000000   \n",
      "50%      1.000000   72.500000    0.000000   68.000000    1.000000    1.000000   \n",
      "75%      1.000000   78.125000    1.000000   75.250000    1.000000    2.000000   \n",
      "max      1.000000   89.400000    1.000000   97.700000    1.000000    2.000000   \n",
      "\n",
      "         degree_p    degree_t      workex     etest_p  specialisation  \\\n",
      "count  148.000000  148.000000  148.000000  148.000000      148.000000   \n",
      "mean    68.740541    0.587838    0.432432   73.238041        0.358108   \n",
      "std      6.518087    0.895408    0.497096   13.729333        0.481072   \n",
      "min     56.000000    0.000000    0.000000   50.000000        0.000000   \n",
      "25%     65.000000    0.000000    0.000000   60.000000        0.000000   \n",
      "50%     68.000000    0.000000    0.000000   72.000000        0.000000   \n",
      "75%     72.422500    2.000000    1.000000   85.000000        1.000000   \n",
      "max     91.000000    2.000000    1.000000   98.000000        1.000000   \n",
      "\n",
      "            mba_p  status         salary  \n",
      "count  148.000000   148.0     148.000000  \n",
      "mean    62.579392     1.0  288655.405405  \n",
      "std      5.884583     0.0   93457.452420  \n",
      "min     52.380000     1.0  200000.000000  \n",
      "25%     57.772500     1.0  240000.000000  \n",
      "50%     62.245000     1.0  265000.000000  \n",
      "75%     66.760000     1.0  300000.000000  \n",
      "max     77.890000     1.0  940000.000000  \n",
      "\n",
      "Not Placed Students Summary:\n",
      "          gender      ssc_p      ssc_b      hsc_p      hsc_b      hsc_s  \\\n",
      "count  67.000000  67.000000  67.000000  67.000000  67.000000  67.000000   \n",
      "mean    0.582090  57.544030   0.432836  58.395522   0.597015   1.343284   \n",
      "std     0.496938   8.394246   0.499208   9.914090   0.494200   0.616742   \n",
      "min     0.000000  40.890000   0.000000  37.000000   0.000000   0.000000   \n",
      "25%     0.000000  52.000000   0.000000  51.000000   0.000000   1.000000   \n",
      "50%     1.000000  56.280000   0.000000  60.330000   1.000000   1.000000   \n",
      "75%     1.000000  63.000000   1.000000  64.000000   1.000000   2.000000   \n",
      "max     1.000000  77.800000   1.000000  82.000000   1.000000   2.000000   \n",
      "\n",
      "        degree_p   degree_t     workex    etest_p  specialisation      mba_p  \\\n",
      "count  67.000000  67.000000  67.000000  67.000000       67.000000  67.000000   \n",
      "mean   61.134179   0.626866   0.149254  69.587910        0.626866  61.612836   \n",
      "std     6.365825   0.884818   0.359028  11.930687        0.487288   5.705689   \n",
      "min    50.000000   0.000000   0.000000  50.000000        0.000000  51.210000   \n",
      "25%    57.000000   0.000000   0.000000  60.000000        0.000000  58.480000   \n",
      "50%    61.000000   0.000000   0.000000  67.000000        1.000000  60.690000   \n",
      "75%    65.000000   2.000000   0.000000  76.500000        1.000000  65.405000   \n",
      "max    79.000000   2.000000   1.000000  97.000000        1.000000  75.710000   \n",
      "\n",
      "       status  salary  \n",
      "count    67.0    67.0  \n",
      "mean      0.0     0.0  \n",
      "std       0.0     0.0  \n",
      "min       0.0     0.0  \n",
      "25%       0.0     0.0  \n",
      "50%       0.0     0.0  \n",
      "75%       0.0     0.0  \n",
      "max       0.0     0.0  \n"
     ]
    }
   ],
   "source": [
    "# Summary statistics for placed vs. non-placed students\n",
    "placed = df[df['status'] == 1]\n",
    "not_placed = df[df['status'] == 0]\n",
    "\n",
    "print(\"Placed Students Summary:\")\n",
    "print(placed.describe())\n",
    "\n",
    "print(\"\\nNot Placed Students Summary:\")\n",
    "print(not_placed.describe())"
   ]
  },
  {
   "cell_type": "code",
   "execution_count": null,
   "metadata": {},
   "outputs": [],
   "source": []
  }
 ],
 "metadata": {
  "kernelspec": {
   "display_name": "Python 3",
   "language": "python",
   "name": "python3"
  },
  "language_info": {
   "codemirror_mode": {
    "name": "ipython",
    "version": 3
   },
   "file_extension": ".py",
   "mimetype": "text/x-python",
   "name": "python",
   "nbconvert_exporter": "python",
   "pygments_lexer": "ipython3",
   "version": "3.11.3"
  }
 },
 "nbformat": 4,
 "nbformat_minor": 2
}
